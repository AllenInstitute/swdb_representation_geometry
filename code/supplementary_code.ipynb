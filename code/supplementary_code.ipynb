{
 "cells": [
  {
   "cell_type": "markdown",
   "metadata": {
    "id": "CWt_JeJrBDfA"
   },
   "source": [
    "<div style=\"border-left: 3px solid #000; padding: 1px; padding-left: 10px; background: #F0FAFF; \">\n",
    "<h1> Generating synthetic data </h1>\n",
    "</div>"
   ]
  },
  {
   "cell_type": "code",
   "execution_count": null,
   "metadata": {
    "id": "Lcy_EZEbCqWu"
   },
   "outputs": [],
   "source": [
    "# import packages\n",
    "import pandas as pd\n",
    "import numpy as np\n",
    "import matplotlib.pyplot as plt\n",
    "import plotly.express as px"
   ]
  },
  {
   "cell_type": "code",
   "execution_count": null,
   "metadata": {
    "id": "yeIodsa4Ninn"
   },
   "outputs": [],
   "source": [
    "# constants\n",
    "DIM = 3 # want to generate three-dimensional data\n",
    "SAMPLES = 500 # n samples for each dataset\n",
    "color_list = [\"#d81159\", \"#FF8020\", \"#0496ff\", \"#0077CC\", \"#005FA3\", \"#00477A\"]\n",
    "\n",
    "# for each dataset, define standard deviation per axis (\"scale\") and center\n",
    "dataset_params = {\n",
    "    0: {\"scale\": [1, 1, 1], \"center\": [0, 0, 0]},\n",
    "    1: {\"scale\": [1, 0.3, 1.2], \"center\": [7, 0, 0]},\n",
    "    2: {\"scale\": [0.3, 1.3, 0.3], \"center\": [14, 0, 0]},\n",
    "    3: {\"scale\": [0.4, 1.3, 0.3], \"center\": [21, 0, 0]},\n",
    "    4: {\"scale\": [0.5, 1.3, 0.3], \"center\": [28, 0, 0]},\n",
    "    5: {\"scale\": [0.6, 1.3, 0.3], \"center\": [35, 0, 0]},\n",
    "}"
   ]
  },
  {
   "cell_type": "code",
   "execution_count": null,
   "metadata": {
    "id": "6GQjB0RiBC7T"
   },
   "outputs": [],
   "source": [
    "# datasets spread along x-axis\n",
    "datasets = []\n",
    "for i in range(len(dataset_params)): # for each dataset\n",
    "    axes = []\n",
    "    for j in range(DIM): # for each of the three dimensions, generate values according to the std. dev. and center of that axis\n",
    "        nums = np.random.normal(loc = 10, scale = dataset_params[i][\"scale\"][j], size = SAMPLES) + dataset_params[i][\"center\"][j]\n",
    "        axes.append(nums)\n",
    "    df = pd.DataFrame(axes).transpose() # create a df from the lists\n",
    "    df[\"dataset_id\"] = (np.zeros(SAMPLES) + i).astype(int).astype(str) # add a \"dataset ID\"; helpful for post-concatenation of all these datasets\n",
    "    datasets.append(df)\n",
    "\n",
    "synthetic_df = pd.concat(datasets) # concat together all of the\n",
    "synthetic_df.columns = [\"x\", \"y\", \"z\", \"dataset_id\"] # rename dataset columns\n",
    "synthetic_df.to_pickle(\"synthetic_data.pkl\")"
   ]
  },
  {
   "cell_type": "code",
   "execution_count": null,
   "metadata": {
    "colab": {
     "base_uri": "https://localhost:8080/",
     "height": 617
    },
    "id": "BptDlIg54R15",
    "outputId": "d4c3a9d2-0bf2-4092-ee8d-508a686ce3b7"
   },
   "outputs": [],
   "source": [
    "# plot\n",
    "fig = px.scatter_3d(synthetic_df, x=\"x\", y=\"y\", z=\"z\", color='dataset_id', color_discrete_sequence = color_list, labels = {\"x\": \"Neuron 1\",\"y\": \"Neuron 2\", \"z\": \"Neuron 3\"})\n",
    "fig.update_traces(marker_size=3)\n",
    "fig.update_layout(width=1100, height=600, font_size=11, scene_aspectmode=\"data\", scene_camera_eye= dict(x=0.2, y=-2.0, z=1)) # adjust plot appearance\n",
    "fig.show()"
   ]
  },
  {
   "cell_type": "code",
   "execution_count": null,
   "metadata": {
    "id": "f0eIBi1hEbWu"
   },
   "outputs": [],
   "source": [
    "# datasets all centered at origin\n",
    "datasets = []\n",
    "for i in range(len(dataset_params)): # for each dataset\n",
    "    axes = []\n",
    "    for j in range(DIM): # for each of the three dimensions, generate values according to the std. dev. and center of that axis\n",
    "        nums = np.random.normal(loc = 0, scale = dataset_params[i][\"scale\"][j], size = SAMPLES)\n",
    "        axes.append(nums)\n",
    "    df = pd.DataFrame(axes).transpose() # create a df from the lists\n",
    "    df[\"dataset_id\"] = (np.zeros(SAMPLES) + i).astype(int).astype(str) # add a \"dataset ID\"; helpful for post-concatenation of all these datasets\n",
    "    datasets.append(df)\n",
    "\n",
    "synthetic_df = pd.concat(datasets) # concat together all of the\n",
    "synthetic_df.columns = [\"x\", \"y\", \"z\", \"dataset_id\"] # rename dataset columns\n",
    "synthetic_df.to_pickle(\"synthetic_data_centered.pkl\")"
   ]
  },
  {
   "cell_type": "code",
   "execution_count": null,
   "metadata": {
    "colab": {
     "base_uri": "https://localhost:8080/",
     "height": 717
    },
    "id": "Uji_FpyrNj1F",
    "outputId": "06ad1e59-d911-478e-909d-4a820a2e90d9"
   },
   "outputs": [],
   "source": [
    "# plot\n",
    "fig = px.scatter_3d(synthetic_df, x=\"x\", y=\"y\", z=\"z\", color='dataset_id', color_discrete_sequence = color_list, labels = {\"x\": \"Neuron 1\",\"y\": \"Neuron 2\", \"z\": \"Neuron 3\"})\n",
    "fig.update_traces(marker_size=3)\n",
    "fig.update_layout(width=800, height=700, font_size=11, scene_aspectmode=\"data\") # adjust plot appearance\n",
    "fig.show()"
   ]
  }
 ],
 "metadata": {
  "colab": {
   "provenance": []
  },
  "kernelspec": {
   "display_name": "Python 3 (ipykernel)",
   "language": "python",
   "name": "python3"
  },
  "language_info": {
   "codemirror_mode": {
    "name": "ipython",
    "version": 3
   },
   "file_extension": ".py",
   "mimetype": "text/x-python",
   "name": "python",
   "nbconvert_exporter": "python",
   "pygments_lexer": "ipython3",
   "version": "3.9.12"
  }
 },
 "nbformat": 4,
 "nbformat_minor": 4
}
